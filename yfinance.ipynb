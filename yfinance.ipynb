{
  "nbformat": 4,
  "nbformat_minor": 0,
  "metadata": {
    "colab": {
      "provenance": [],
      "authorship_tag": "ABX9TyPdD6xBUjX5gIuBJpbiD50G",
      "include_colab_link": true
    },
    "kernelspec": {
      "name": "python3",
      "display_name": "Python 3"
    },
    "language_info": {
      "name": "python"
    }
  },
  "cells": [
    {
      "cell_type": "markdown",
      "metadata": {
        "id": "view-in-github",
        "colab_type": "text"
      },
      "source": [
        "<a href=\"https://colab.research.google.com/github/Sandsuraj/code-/blob/main/yfinance.ipynb\" target=\"_parent\"><img src=\"https://colab.research.google.com/assets/colab-badge.svg\" alt=\"Open In Colab\"/></a>"
      ]
    },
    {
      "cell_type": "code",
      "execution_count": null,
      "metadata": {
        "colab": {
          "base_uri": "https://localhost:8080/"
        },
        "id": "u3PtLth_3YAu",
        "outputId": "39e5d0d2-a9d4-4f6b-9ac7-99e0b51d9ac2"
      },
      "outputs": [
        {
          "output_type": "stream",
          "name": "stdout",
          "text": [
            "                               Open      High       Low     Close     Volume  \\\n",
            "Date                                                                           \n",
            "2010-06-29 00:00:00-04:00  1.266667  1.666667  1.169333  1.592667  281494500   \n",
            "2010-06-30 00:00:00-04:00  1.719333  2.028000  1.553333  1.588667  257806500   \n",
            "2010-07-01 00:00:00-04:00  1.666667  1.728000  1.351333  1.464000  123282000   \n",
            "2010-07-02 00:00:00-04:00  1.533333  1.540000  1.247333  1.280000   77097000   \n",
            "2010-07-06 00:00:00-04:00  1.333333  1.333333  1.055333  1.074000  103003500   \n",
            "\n",
            "                           Dividends  Stock Splits  \n",
            "Date                                                \n",
            "2010-06-29 00:00:00-04:00        0.0           0.0  \n",
            "2010-06-30 00:00:00-04:00        0.0           0.0  \n",
            "2010-07-01 00:00:00-04:00        0.0           0.0  \n",
            "2010-07-02 00:00:00-04:00        0.0           0.0  \n",
            "2010-07-06 00:00:00-04:00        0.0           0.0  \n"
          ]
        }
      ],
      "source": [
        "import yfinance as yf\n",
        "\n",
        "# Download Tesla stock data\n",
        "tesla = yf.Ticker(\"TSLA\")\n",
        "tesla_stock = tesla.history(period=\"max\")  # Get all available historical data\n",
        "\n",
        "# Preview the data\n",
        "print(tesla_stock.head())\n"
      ]
    }
  ]
}