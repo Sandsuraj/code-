{
  "nbformat": 4,
  "nbformat_minor": 0,
  "metadata": {
    "colab": {
      "provenance": [],
      "authorship_tag": "ABX9TyPNC6iUoszbUro+AF7r2RIl",
      "include_colab_link": true
    },
    "kernelspec": {
      "name": "python3",
      "display_name": "Python 3"
    },
    "language_info": {
      "name": "python"
    }
  },
  "cells": [
    {
      "cell_type": "markdown",
      "metadata": {
        "id": "view-in-github",
        "colab_type": "text"
      },
      "source": [
        "<a href=\"https://colab.research.google.com/github/Sandsuraj/code-/blob/main/stock_data.ipynb\" target=\"_parent\"><img src=\"https://colab.research.google.com/assets/colab-badge.svg\" alt=\"Open In Colab\"/></a>"
      ]
    },
    {
      "cell_type": "code",
      "execution_count": null,
      "metadata": {
        "id": "4UrAOqufSdjX"
      },
      "outputs": [],
      "source": [
        "# Step 1: Import required libraries\n",
        "import yfinance as yf\n",
        "import pandas as pd\n",
        "\n",
        "# Step 2: Download GME stock data\n",
        "gme_data = yf.download(\"GME\", start=\"2010-01-01\", end=\"2024-12-31\")\n",
        "\n",
        "# Step 3: Reset the index\n",
        "gme_data.reset_index(inplace=True)\n",
        "\n",
        "# Step 4: Save to CSV\n",
        "gme_data.to_csv(\"gme_data.csv\", index=False)\n",
        "\n",
        "# Step 5: Display the first five rows\n",
        "gme_data.head()\n"
      ]
    }
  ]
}