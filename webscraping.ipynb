{
  "nbformat": 4,
  "nbformat_minor": 0,
  "metadata": {
    "colab": {
      "provenance": [],
      "authorship_tag": "ABX9TyNd+Nnf26w/uFcoP/n+AOO7",
      "include_colab_link": true
    },
    "kernelspec": {
      "name": "python3",
      "display_name": "Python 3"
    },
    "language_info": {
      "name": "python"
    }
  },
  "cells": [
    {
      "cell_type": "markdown",
      "metadata": {
        "id": "view-in-github",
        "colab_type": "text"
      },
      "source": [
        "<a href=\"https://colab.research.google.com/github/Sandsuraj/code-/blob/main/webscraping.ipynb\" target=\"_parent\"><img src=\"https://colab.research.google.com/assets/colab-badge.svg\" alt=\"Open In Colab\"/></a>"
      ]
    },
    {
      "cell_type": "code",
      "execution_count": null,
      "metadata": {
        "id": "yAZA-AruRw47"
      },
      "outputs": [],
      "source": [
        "# Configure headless browser\n",
        "options = Options()\n",
        "options.add_argument(\"--headless\")\n",
        "options.add_argument(\"--no-sandbox\")\n",
        "options.add_argument(\"--disable-dev-shm-usage\")\n",
        "\n",
        "driver = webdriver.Chrome('chromedriver', options=options)\n",
        "\n",
        "# Open the website\n",
        "url = \"https://www.macrotrends.net/stocks/charts/GME/gamestop/revenue\"\n",
        "driver.get(url)\n",
        "time.sleep(5)  # Give time for JavaScript to load\n",
        "\n",
        "# Parse HTML\n",
        "soup = BeautifulSoup(driver.page_source, \"html.parser\")\n",
        "tables = soup.find_all(\"table\")\n",
        "\n",
        "# Locate the revenue table\n",
        "revenue_table = None\n",
        "for table in tables:\n",
        "    if \"GameStop Quarterly Revenue\" in str(table):\n",
        "        revenue_table = table\n",
        "        break\n",
        "\n",
        "# Extract the table\n",
        "if revenue_table:\n",
        "    gamestop_revenue = pd.read_html(str(revenue_table))[0]\n",
        "    gamestop_revenue.columns = [\"Date\", \"Revenue\"]\n",
        "    gamestop_revenue.dropna(inplace=True)\n",
        "    gamestop_revenue[\"Revenue\"] = gamestop_revenue[\"Revenue\"].str.replace(r\"\\$\", \"\", regex=True)\n",
        "    gamestop_revenue[\"Revenue\"] = gamestop_revenue[\"Revenue\"].str.replace(\",\", \"\", regex=True)\n",
        "    gamestop_revenue = gamestop_revenue[gamestop_revenue[\"Revenue\"] != \"\"]\n",
        "    gamestop_revenue[\"Revenue\"] = gamestop_revenue[\"Revenue\"].astype(float)\n",
        "    print(gamestop_revenue.tail())\n",
        "else:\n",
        "    print(\"Revenue table not found.\")\n",
        "\n",
        "driver.quit()\n"
      ]
    }
  ]
}