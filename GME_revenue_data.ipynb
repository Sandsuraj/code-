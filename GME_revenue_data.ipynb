{
  "nbformat": 4,
  "nbformat_minor": 0,
  "metadata": {
    "colab": {
      "provenance": [],
      "authorship_tag": "ABX9TyMgh+W0E+LSy/zLW9WXvz2+",
      "include_colab_link": true
    },
    "kernelspec": {
      "name": "python3",
      "display_name": "Python 3"
    },
    "language_info": {
      "name": "python"
    }
  },
  "cells": [
    {
      "cell_type": "markdown",
      "metadata": {
        "id": "view-in-github",
        "colab_type": "text"
      },
      "source": [
        "<a href=\"https://colab.research.google.com/github/Sandsuraj/code-/blob/main/GME_revenue_data.ipynb\" target=\"_parent\"><img src=\"https://colab.research.google.com/assets/colab-badge.svg\" alt=\"Open In Colab\"/></a>"
      ]
    },
    {
      "cell_type": "code",
      "execution_count": null,
      "metadata": {
        "id": "ASNZZk-tS5h9"
      },
      "outputs": [],
      "source": [
        "# Step 1: Import required libraries\n",
        "import pandas as pd\n",
        "import requests\n",
        "from bs4 import BeautifulSoup\n",
        "\n",
        "# Step 2: Get HTML content from the macrotrends GME revenue page\n",
        "url = \"https://www.macrotrends.net/stocks/charts/GME/gamestop/revenue\"\n",
        "html_data = requests.get(url).text\n",
        "\n",
        "# Step 3: Parse HTML using BeautifulSoup\n",
        "soup = BeautifulSoup(html_data, \"html.parser\")\n",
        "\n",
        "# Step 4: Locate the revenue table\n",
        "tables = soup.find_all(\"table\")\n",
        "gme_revenue = pd.DataFrame()\n",
        "\n",
        "for table in tables:\n",
        "    if \"GameStop Quarterly Revenue\" in str(table):\n",
        "        gme_revenue = pd.read_html(str(table))[0]\n",
        "        break\n",
        "\n",
        "# Step 5: Clean the dataframe\n",
        "gme_revenue.columns = [\"Date\", \"Revenue\"]\n",
        "gme_revenue.dropna(inplace=True)\n",
        "gme_revenue[\"Revenue\"] = gme_revenue[\"Revenue\"].str.replace(\"$\", \"\").str.replace(\",\", \"\")\n",
        "gme_revenue = gme_revenue[gme_revenue[\"Revenue\"] != \"\"]\n",
        "gme_revenue[\"Revenue\"] = gme_revenue[\"Revenue\"].astype(float)\n",
        "\n",
        "# Step 6: Display last five rows\n",
        "gme_revenue.tail()\n"
      ]
    }
  ]
}