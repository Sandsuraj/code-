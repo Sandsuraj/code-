{
  "nbformat": 4,
  "nbformat_minor": 0,
  "metadata": {
    "colab": {
      "provenance": [],
      "authorship_tag": "ABX9TyMUrHsnxzjFJgmxlEjb+tGR",
      "include_colab_link": true
    },
    "kernelspec": {
      "name": "python3",
      "display_name": "Python 3"
    },
    "language_info": {
      "name": "python"
    }
  },
  "cells": [
    {
      "cell_type": "markdown",
      "metadata": {
        "id": "view-in-github",
        "colab_type": "text"
      },
      "source": [
        "<a href=\"https://colab.research.google.com/github/Sandsuraj/code-/blob/main/tesla_stock_graph.ipynb\" target=\"_parent\"><img src=\"https://colab.research.google.com/assets/colab-badge.svg\" alt=\"Open In Colab\"/></a>"
      ]
    },
    {
      "cell_type": "code",
      "execution_count": null,
      "metadata": {
        "id": "ZDdwPQ-lTWh5"
      },
      "outputs": [],
      "source": [
        "# Step 1: Import required libraries\n",
        "import matplotlib.pyplot as plt\n",
        "\n",
        "# Step 2: Define the graphing function\n",
        "def make_graph(stock_data, stock_name):\n",
        "    plt.figure(figsize=(10, 6))\n",
        "    plt.plot(stock_data['Date'], stock_data['Close'], label=stock_name)\n",
        "    plt.xlabel('Date')\n",
        "    plt.ylabel('Closing Price USD ($)')\n",
        "    plt.title(f'{stock_name} Stock Price Over Time')\n",
        "    plt.legend()\n",
        "    plt.grid(True)\n",
        "    plt.show()\n",
        "\n",
        "# Step 3: Call the function using your Tesla stock dataframe\n",
        "make_graph(tesla_data, 'Tesla')\n"
      ]
    }
  ]
}